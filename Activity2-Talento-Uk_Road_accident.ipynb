{
 "cells": [
  {
   "cell_type": "markdown",
   "id": "9348103e-4152-4c97-9bcf-8c549cb2db1b",
   "metadata": {},
   "source": [
    "<h1> UK Road Accident Data Analysis <h1>\n",
    "<hr>\n",
    "<h3>Analyst: Mark Angelo P. Talento <h3>"
   ]
  },
  {
   "cell_type": "code",
   "execution_count": 1,
   "id": "f1a976c4-b4ef-4ade-9b67-0e769638abdc",
   "metadata": {},
   "outputs": [],
   "source": [
    "import pandas as pd\n",
    "import warnings\n",
    "import seaborn as sns\n",
    "import matplotlib.pyplot as plt\n",
    "warnings.filterwarnings('ignore')\n"
   ]
  },
  {
   "cell_type": "code",
   "execution_count": 2,
   "id": "46d0004e-2b1e-4383-94de-cd8b3a73ebb5",
   "metadata": {},
   "outputs": [
    {
     "data": {
      "text/html": [
       "<div>\n",
       "<style scoped>\n",
       "    .dataframe tbody tr th:only-of-type {\n",
       "        vertical-align: middle;\n",
       "    }\n",
       "\n",
       "    .dataframe tbody tr th {\n",
       "        vertical-align: top;\n",
       "    }\n",
       "\n",
       "    .dataframe thead th {\n",
       "        text-align: right;\n",
       "    }\n",
       "</style>\n",
       "<table border=\"1\" class=\"dataframe\">\n",
       "  <thead>\n",
       "    <tr style=\"text-align: right;\">\n",
       "      <th></th>\n",
       "      <th>Index</th>\n",
       "      <th>Accident_Severity</th>\n",
       "      <th>Accident Date</th>\n",
       "      <th>Latitude</th>\n",
       "      <th>Light_Conditions</th>\n",
       "      <th>District Area</th>\n",
       "      <th>Longitude</th>\n",
       "      <th>Number_of_Casualties</th>\n",
       "      <th>Number_of_Vehicles</th>\n",
       "      <th>Road_Surface_Conditions</th>\n",
       "      <th>Road_Type</th>\n",
       "      <th>Urban_or_Rural_Area</th>\n",
       "      <th>Weather_Conditions</th>\n",
       "      <th>Vehicle_Type</th>\n",
       "    </tr>\n",
       "  </thead>\n",
       "  <tbody>\n",
       "    <tr>\n",
       "      <th>0</th>\n",
       "      <td>200701BS64157</td>\n",
       "      <td>Serious</td>\n",
       "      <td>5/6/2019</td>\n",
       "      <td>51.506187</td>\n",
       "      <td>Darkness - lights lit</td>\n",
       "      <td>Kensington and Chelsea</td>\n",
       "      <td>-0.209082</td>\n",
       "      <td>1</td>\n",
       "      <td>2</td>\n",
       "      <td>Dry</td>\n",
       "      <td>Single carriageway</td>\n",
       "      <td>Urban</td>\n",
       "      <td>Fine no high winds</td>\n",
       "      <td>Car</td>\n",
       "    </tr>\n",
       "    <tr>\n",
       "      <th>1</th>\n",
       "      <td>200701BS65737</td>\n",
       "      <td>Serious</td>\n",
       "      <td>2/7/2019</td>\n",
       "      <td>51.495029</td>\n",
       "      <td>Daylight</td>\n",
       "      <td>Kensington and Chelsea</td>\n",
       "      <td>-0.173647</td>\n",
       "      <td>1</td>\n",
       "      <td>2</td>\n",
       "      <td>Wet or damp</td>\n",
       "      <td>Single carriageway</td>\n",
       "      <td>Urban</td>\n",
       "      <td>Raining no high winds</td>\n",
       "      <td>Car</td>\n",
       "    </tr>\n",
       "    <tr>\n",
       "      <th>2</th>\n",
       "      <td>200701BS66127</td>\n",
       "      <td>Serious</td>\n",
       "      <td>26-08-2019</td>\n",
       "      <td>51.517715</td>\n",
       "      <td>Darkness - lighting unknown</td>\n",
       "      <td>Kensington and Chelsea</td>\n",
       "      <td>-0.210215</td>\n",
       "      <td>1</td>\n",
       "      <td>3</td>\n",
       "      <td>Dry</td>\n",
       "      <td>NaN</td>\n",
       "      <td>Urban</td>\n",
       "      <td>NaN</td>\n",
       "      <td>Taxi/Private hire car</td>\n",
       "    </tr>\n",
       "    <tr>\n",
       "      <th>3</th>\n",
       "      <td>200701BS66128</td>\n",
       "      <td>Serious</td>\n",
       "      <td>16-08-2019</td>\n",
       "      <td>51.495478</td>\n",
       "      <td>Daylight</td>\n",
       "      <td>Kensington and Chelsea</td>\n",
       "      <td>-0.202731</td>\n",
       "      <td>1</td>\n",
       "      <td>4</td>\n",
       "      <td>Dry</td>\n",
       "      <td>Single carriageway</td>\n",
       "      <td>Urban</td>\n",
       "      <td>Fine no high winds</td>\n",
       "      <td>Bus or coach (17 or more pass seats)</td>\n",
       "    </tr>\n",
       "    <tr>\n",
       "      <th>4</th>\n",
       "      <td>200701BS66837</td>\n",
       "      <td>Slight</td>\n",
       "      <td>3/9/2019</td>\n",
       "      <td>51.488576</td>\n",
       "      <td>Darkness - lights lit</td>\n",
       "      <td>Kensington and Chelsea</td>\n",
       "      <td>-0.192487</td>\n",
       "      <td>1</td>\n",
       "      <td>2</td>\n",
       "      <td>Dry</td>\n",
       "      <td>NaN</td>\n",
       "      <td>Urban</td>\n",
       "      <td>NaN</td>\n",
       "      <td>Other vehicle</td>\n",
       "    </tr>\n",
       "  </tbody>\n",
       "</table>\n",
       "</div>"
      ],
      "text/plain": [
       "           Index Accident_Severity Accident Date   Latitude  \\\n",
       "0  200701BS64157           Serious      5/6/2019  51.506187   \n",
       "1  200701BS65737           Serious      2/7/2019  51.495029   \n",
       "2  200701BS66127           Serious    26-08-2019  51.517715   \n",
       "3  200701BS66128           Serious    16-08-2019  51.495478   \n",
       "4  200701BS66837            Slight      3/9/2019  51.488576   \n",
       "\n",
       "              Light_Conditions           District Area  Longitude  \\\n",
       "0        Darkness - lights lit  Kensington and Chelsea  -0.209082   \n",
       "1                     Daylight  Kensington and Chelsea  -0.173647   \n",
       "2  Darkness - lighting unknown  Kensington and Chelsea  -0.210215   \n",
       "3                     Daylight  Kensington and Chelsea  -0.202731   \n",
       "4        Darkness - lights lit  Kensington and Chelsea  -0.192487   \n",
       "\n",
       "   Number_of_Casualties  Number_of_Vehicles Road_Surface_Conditions  \\\n",
       "0                     1                   2                     Dry   \n",
       "1                     1                   2             Wet or damp   \n",
       "2                     1                   3                     Dry   \n",
       "3                     1                   4                     Dry   \n",
       "4                     1                   2                     Dry   \n",
       "\n",
       "            Road_Type Urban_or_Rural_Area     Weather_Conditions  \\\n",
       "0  Single carriageway               Urban     Fine no high winds   \n",
       "1  Single carriageway               Urban  Raining no high winds   \n",
       "2                 NaN               Urban                    NaN   \n",
       "3  Single carriageway               Urban     Fine no high winds   \n",
       "4                 NaN               Urban                    NaN   \n",
       "\n",
       "                           Vehicle_Type  \n",
       "0                                   Car  \n",
       "1                                   Car  \n",
       "2                 Taxi/Private hire car  \n",
       "3  Bus or coach (17 or more pass seats)  \n",
       "4                         Other vehicle  "
      ]
     },
     "execution_count": 2,
     "metadata": {},
     "output_type": "execute_result"
    }
   ],
   "source": [
    "road = pd.read_csv(\"C:\\\\Users\\\\Admin\\\\Desktop\\\\ELEC303-3A\\\\datasets\\\\uk_road_accident.csv\")\n",
    "road.head()"
   ]
  },
  {
   "cell_type": "code",
   "execution_count": 3,
   "id": "01f20f44-d51a-4649-beb1-b56cde028556",
   "metadata": {},
   "outputs": [
    {
     "data": {
      "text/html": [
       "<div>\n",
       "<style scoped>\n",
       "    .dataframe tbody tr th:only-of-type {\n",
       "        vertical-align: middle;\n",
       "    }\n",
       "\n",
       "    .dataframe tbody tr th {\n",
       "        vertical-align: top;\n",
       "    }\n",
       "\n",
       "    .dataframe thead th {\n",
       "        text-align: right;\n",
       "    }\n",
       "</style>\n",
       "<table border=\"1\" class=\"dataframe\">\n",
       "  <thead>\n",
       "    <tr style=\"text-align: right;\">\n",
       "      <th></th>\n",
       "      <th>Index</th>\n",
       "      <th>Accident_Severity</th>\n",
       "      <th>Accident Date</th>\n",
       "      <th>Latitude</th>\n",
       "      <th>Light_Conditions</th>\n",
       "      <th>District Area</th>\n",
       "      <th>Longitude</th>\n",
       "      <th>Number_of_Casualties</th>\n",
       "      <th>Number_of_Vehicles</th>\n",
       "      <th>Road_Surface_Conditions</th>\n",
       "      <th>Road_Type</th>\n",
       "      <th>Urban_or_Rural_Area</th>\n",
       "      <th>Weather_Conditions</th>\n",
       "      <th>Vehicle_Type</th>\n",
       "    </tr>\n",
       "  </thead>\n",
       "  <tbody>\n",
       "    <tr>\n",
       "      <th>0</th>\n",
       "      <td>200701BS64157</td>\n",
       "      <td>Serious</td>\n",
       "      <td>5/6/2019</td>\n",
       "      <td>51.506187</td>\n",
       "      <td>Darkness - lights lit</td>\n",
       "      <td>Kensington and Chelsea</td>\n",
       "      <td>-0.209082</td>\n",
       "      <td>1</td>\n",
       "      <td>2</td>\n",
       "      <td>Dry</td>\n",
       "      <td>Single carriageway</td>\n",
       "      <td>Urban</td>\n",
       "      <td>Fine no high winds</td>\n",
       "      <td>Car</td>\n",
       "    </tr>\n",
       "    <tr>\n",
       "      <th>1</th>\n",
       "      <td>200701BS65737</td>\n",
       "      <td>Serious</td>\n",
       "      <td>2/7/2019</td>\n",
       "      <td>51.495029</td>\n",
       "      <td>Daylight</td>\n",
       "      <td>Kensington and Chelsea</td>\n",
       "      <td>-0.173647</td>\n",
       "      <td>1</td>\n",
       "      <td>2</td>\n",
       "      <td>Wet or damp</td>\n",
       "      <td>Single carriageway</td>\n",
       "      <td>Urban</td>\n",
       "      <td>Raining no high winds</td>\n",
       "      <td>Car</td>\n",
       "    </tr>\n",
       "    <tr>\n",
       "      <th>2</th>\n",
       "      <td>200701BS66127</td>\n",
       "      <td>Serious</td>\n",
       "      <td>26-08-2019</td>\n",
       "      <td>51.517715</td>\n",
       "      <td>Darkness - lighting unknown</td>\n",
       "      <td>Kensington and Chelsea</td>\n",
       "      <td>-0.210215</td>\n",
       "      <td>1</td>\n",
       "      <td>3</td>\n",
       "      <td>Dry</td>\n",
       "      <td>NaN</td>\n",
       "      <td>Urban</td>\n",
       "      <td>NaN</td>\n",
       "      <td>Taxi/Private hire car</td>\n",
       "    </tr>\n",
       "    <tr>\n",
       "      <th>3</th>\n",
       "      <td>200701BS66128</td>\n",
       "      <td>Serious</td>\n",
       "      <td>16-08-2019</td>\n",
       "      <td>51.495478</td>\n",
       "      <td>Daylight</td>\n",
       "      <td>Kensington and Chelsea</td>\n",
       "      <td>-0.202731</td>\n",
       "      <td>1</td>\n",
       "      <td>4</td>\n",
       "      <td>Dry</td>\n",
       "      <td>Single carriageway</td>\n",
       "      <td>Urban</td>\n",
       "      <td>Fine no high winds</td>\n",
       "      <td>Bus or coach (17 or more pass seats)</td>\n",
       "    </tr>\n",
       "    <tr>\n",
       "      <th>4</th>\n",
       "      <td>200701BS66837</td>\n",
       "      <td>Slight</td>\n",
       "      <td>3/9/2019</td>\n",
       "      <td>51.488576</td>\n",
       "      <td>Darkness - lights lit</td>\n",
       "      <td>Kensington and Chelsea</td>\n",
       "      <td>-0.192487</td>\n",
       "      <td>1</td>\n",
       "      <td>2</td>\n",
       "      <td>Dry</td>\n",
       "      <td>NaN</td>\n",
       "      <td>Urban</td>\n",
       "      <td>NaN</td>\n",
       "      <td>Other vehicle</td>\n",
       "    </tr>\n",
       "  </tbody>\n",
       "</table>\n",
       "</div>"
      ],
      "text/plain": [
       "           Index Accident_Severity Accident Date   Latitude  \\\n",
       "0  200701BS64157           Serious      5/6/2019  51.506187   \n",
       "1  200701BS65737           Serious      2/7/2019  51.495029   \n",
       "2  200701BS66127           Serious    26-08-2019  51.517715   \n",
       "3  200701BS66128           Serious    16-08-2019  51.495478   \n",
       "4  200701BS66837            Slight      3/9/2019  51.488576   \n",
       "\n",
       "              Light_Conditions           District Area  Longitude  \\\n",
       "0        Darkness - lights lit  Kensington and Chelsea  -0.209082   \n",
       "1                     Daylight  Kensington and Chelsea  -0.173647   \n",
       "2  Darkness - lighting unknown  Kensington and Chelsea  -0.210215   \n",
       "3                     Daylight  Kensington and Chelsea  -0.202731   \n",
       "4        Darkness - lights lit  Kensington and Chelsea  -0.192487   \n",
       "\n",
       "   Number_of_Casualties  Number_of_Vehicles Road_Surface_Conditions  \\\n",
       "0                     1                   2                     Dry   \n",
       "1                     1                   2             Wet or damp   \n",
       "2                     1                   3                     Dry   \n",
       "3                     1                   4                     Dry   \n",
       "4                     1                   2                     Dry   \n",
       "\n",
       "            Road_Type Urban_or_Rural_Area     Weather_Conditions  \\\n",
       "0  Single carriageway               Urban     Fine no high winds   \n",
       "1  Single carriageway               Urban  Raining no high winds   \n",
       "2                 NaN               Urban                    NaN   \n",
       "3  Single carriageway               Urban     Fine no high winds   \n",
       "4                 NaN               Urban                    NaN   \n",
       "\n",
       "                           Vehicle_Type  \n",
       "0                                   Car  \n",
       "1                                   Car  \n",
       "2                 Taxi/Private hire car  \n",
       "3  Bus or coach (17 or more pass seats)  \n",
       "4                         Other vehicle  "
      ]
     },
     "execution_count": 3,
     "metadata": {},
     "output_type": "execute_result"
    }
   ],
   "source": [
    "df = pd.read_csv(\"C:\\\\Users\\\\Admin\\\\Desktop\\\\ELEC303-3A\\\\datasets\\\\uk_road_accident.csv\")\n",
    "df.head()"
   ]
  },
  {
   "cell_type": "markdown",
   "id": "91930043-5c06-41d2-b340-c09f100dc674",
   "metadata": {},
   "source": [
    "<h3>Descriptive Analytics</h3>"
   ]
  },
  {
   "cell_type": "code",
   "execution_count": 4,
   "id": "b1350661-aa26-46fc-b40f-d43f63346c95",
   "metadata": {},
   "outputs": [
    {
     "name": "stdout",
     "output_type": "stream",
     "text": [
      "<class 'pandas.core.frame.DataFrame'>\n",
      "RangeIndex: 660679 entries, 0 to 660678\n",
      "Data columns (total 14 columns):\n",
      " #   Column                   Non-Null Count   Dtype  \n",
      "---  ------                   --------------   -----  \n",
      " 0   Index                    660679 non-null  object \n",
      " 1   Accident_Severity        660679 non-null  object \n",
      " 2   Accident Date            660679 non-null  object \n",
      " 3   Latitude                 660654 non-null  float64\n",
      " 4   Light_Conditions         660679 non-null  object \n",
      " 5   District Area            660679 non-null  object \n",
      " 6   Longitude                660653 non-null  float64\n",
      " 7   Number_of_Casualties     660679 non-null  int64  \n",
      " 8   Number_of_Vehicles       660679 non-null  int64  \n",
      " 9   Road_Surface_Conditions  659953 non-null  object \n",
      " 10  Road_Type                656159 non-null  object \n",
      " 11  Urban_or_Rural_Area      660664 non-null  object \n",
      " 12  Weather_Conditions       646551 non-null  object \n",
      " 13  Vehicle_Type             660679 non-null  object \n",
      "dtypes: float64(2), int64(2), object(10)\n",
      "memory usage: 70.6+ MB\n",
      "None\n"
     ]
    }
   ],
   "source": [
    "print(road.info())"
   ]
  },
  {
   "cell_type": "code",
   "execution_count": 5,
   "id": "ef321d86-3d81-4b46-80a5-7a7518fb7111",
   "metadata": {},
   "outputs": [
    {
     "data": {
      "text/plain": [
       "<bound method NDFrame.describe of                 Index Accident_Severity Accident Date   Latitude  \\\n",
       "0       200701BS64157           Serious      5/6/2019  51.506187   \n",
       "1       200701BS65737           Serious      2/7/2019  51.495029   \n",
       "2       200701BS66127           Serious    26-08-2019  51.517715   \n",
       "3       200701BS66128           Serious    16-08-2019  51.495478   \n",
       "4       200701BS66837            Slight      3/9/2019  51.488576   \n",
       "...               ...               ...           ...        ...   \n",
       "660674  201091NM01760            Slight    18-02-2022  57.374005   \n",
       "660675  201091NM01881            Slight    21-02-2022  57.232273   \n",
       "660676  201091NM01935            Slight    23-02-2022  57.585044   \n",
       "660677  201091NM01964           Serious    23-02-2022  57.214898   \n",
       "660678  201091NM02142           Serious    28-02-2022  57.575210   \n",
       "\n",
       "                   Light_Conditions           District Area  Longitude  \\\n",
       "0             Darkness - lights lit  Kensington and Chelsea  -0.209082   \n",
       "1                          Daylight  Kensington and Chelsea  -0.173647   \n",
       "2       Darkness - lighting unknown  Kensington and Chelsea  -0.210215   \n",
       "3                          Daylight  Kensington and Chelsea  -0.202731   \n",
       "4             Darkness - lights lit  Kensington and Chelsea  -0.192487   \n",
       "...                             ...                     ...        ...   \n",
       "660674                     Daylight                Highland  -3.467828   \n",
       "660675       Darkness - no lighting                Highland  -3.809281   \n",
       "660676                     Daylight                Highland  -3.862727   \n",
       "660677       Darkness - no lighting                Highland  -3.823997   \n",
       "660678                     Daylight                Highland  -3.895673   \n",
       "\n",
       "        Number_of_Casualties  Number_of_Vehicles Road_Surface_Conditions  \\\n",
       "0                          1                   2                     Dry   \n",
       "1                          1                   2             Wet or damp   \n",
       "2                          1                   3                     Dry   \n",
       "3                          1                   4                     Dry   \n",
       "4                          1                   2                     Dry   \n",
       "...                      ...                 ...                     ...   \n",
       "660674                     2                   1                     Dry   \n",
       "660675                     1                   1            Frost or ice   \n",
       "660676                     1                   3            Frost or ice   \n",
       "660677                     1                   2             Wet or damp   \n",
       "660678                     1                   1             Wet or damp   \n",
       "\n",
       "                 Road_Type Urban_or_Rural_Area     Weather_Conditions  \\\n",
       "0       Single carriageway               Urban     Fine no high winds   \n",
       "1       Single carriageway               Urban  Raining no high winds   \n",
       "2                      NaN               Urban                    NaN   \n",
       "3       Single carriageway               Urban     Fine no high winds   \n",
       "4                      NaN               Urban                    NaN   \n",
       "...                    ...                 ...                    ...   \n",
       "660674  Single carriageway               Rural     Fine no high winds   \n",
       "660675  Single carriageway               Rural     Fine no high winds   \n",
       "660676  Single carriageway               Rural     Fine no high winds   \n",
       "660677  Single carriageway               Rural     Fine no high winds   \n",
       "660678    Dual carriageway               Rural  Snowing no high winds   \n",
       "\n",
       "                                Vehicle_Type  \n",
       "0                                        Car  \n",
       "1                                        Car  \n",
       "2                      Taxi/Private hire car  \n",
       "3       Bus or coach (17 or more pass seats)  \n",
       "4                              Other vehicle  \n",
       "...                                      ...  \n",
       "660674                                   Car  \n",
       "660675                                   Car  \n",
       "660676                                   Car  \n",
       "660677                 Motorcycle over 500cc  \n",
       "660678                                   Car  \n",
       "\n",
       "[660679 rows x 14 columns]>"
      ]
     },
     "execution_count": 5,
     "metadata": {},
     "output_type": "execute_result"
    }
   ],
   "source": [
    "road.describe"
   ]
  },
  {
   "cell_type": "code",
   "execution_count": null,
   "id": "94ceed83-ffa8-4e3b-abd8-f68c48fe3d3e",
   "metadata": {},
   "outputs": [],
   "source": []
  },
  {
   "cell_type": "code",
   "execution_count": null,
   "id": "754e9d08-bbef-46ae-a5ad-4a29282783a5",
   "metadata": {},
   "outputs": [],
   "source": []
  },
  {
   "cell_type": "code",
   "execution_count": 6,
   "id": "8d828a79-d765-4b66-b7d7-d0a80c554d75",
   "metadata": {},
   "outputs": [
    {
     "data": {
      "text/html": [
       "<div>\n",
       "<style scoped>\n",
       "    .dataframe tbody tr th:only-of-type {\n",
       "        vertical-align: middle;\n",
       "    }\n",
       "\n",
       "    .dataframe tbody tr th {\n",
       "        vertical-align: top;\n",
       "    }\n",
       "\n",
       "    .dataframe thead th {\n",
       "        text-align: right;\n",
       "    }\n",
       "</style>\n",
       "<table border=\"1\" class=\"dataframe\">\n",
       "  <thead>\n",
       "    <tr style=\"text-align: right;\">\n",
       "      <th></th>\n",
       "      <th>count</th>\n",
       "      <th>mean</th>\n",
       "      <th>std</th>\n",
       "      <th>min</th>\n",
       "      <th>25%</th>\n",
       "      <th>50%</th>\n",
       "      <th>75%</th>\n",
       "      <th>max</th>\n",
       "    </tr>\n",
       "  </thead>\n",
       "  <tbody>\n",
       "    <tr>\n",
       "      <th>Latitude</th>\n",
       "      <td>660654.0</td>\n",
       "      <td>52.553866</td>\n",
       "      <td>1.406922</td>\n",
       "      <td>49.914430</td>\n",
       "      <td>51.490690</td>\n",
       "      <td>52.315641</td>\n",
       "      <td>53.453452</td>\n",
       "      <td>60.757544</td>\n",
       "    </tr>\n",
       "    <tr>\n",
       "      <th>Longitude</th>\n",
       "      <td>660653.0</td>\n",
       "      <td>-1.431210</td>\n",
       "      <td>1.383330</td>\n",
       "      <td>-7.516225</td>\n",
       "      <td>-2.332291</td>\n",
       "      <td>-1.411667</td>\n",
       "      <td>-0.232869</td>\n",
       "      <td>1.762010</td>\n",
       "    </tr>\n",
       "    <tr>\n",
       "      <th>Number_of_Casualties</th>\n",
       "      <td>660679.0</td>\n",
       "      <td>1.357040</td>\n",
       "      <td>0.824847</td>\n",
       "      <td>1.000000</td>\n",
       "      <td>1.000000</td>\n",
       "      <td>1.000000</td>\n",
       "      <td>1.000000</td>\n",
       "      <td>68.000000</td>\n",
       "    </tr>\n",
       "    <tr>\n",
       "      <th>Number_of_Vehicles</th>\n",
       "      <td>660679.0</td>\n",
       "      <td>1.831255</td>\n",
       "      <td>0.715269</td>\n",
       "      <td>1.000000</td>\n",
       "      <td>1.000000</td>\n",
       "      <td>2.000000</td>\n",
       "      <td>2.000000</td>\n",
       "      <td>32.000000</td>\n",
       "    </tr>\n",
       "  </tbody>\n",
       "</table>\n",
       "</div>"
      ],
      "text/plain": [
       "                         count       mean       std        min        25%  \\\n",
       "Latitude              660654.0  52.553866  1.406922  49.914430  51.490690   \n",
       "Longitude             660653.0  -1.431210  1.383330  -7.516225  -2.332291   \n",
       "Number_of_Casualties  660679.0   1.357040  0.824847   1.000000   1.000000   \n",
       "Number_of_Vehicles    660679.0   1.831255  0.715269   1.000000   1.000000   \n",
       "\n",
       "                            50%        75%        max  \n",
       "Latitude              52.315641  53.453452  60.757544  \n",
       "Longitude             -1.411667  -0.232869   1.762010  \n",
       "Number_of_Casualties   1.000000   1.000000  68.000000  \n",
       "Number_of_Vehicles     2.000000   2.000000  32.000000  "
      ]
     },
     "execution_count": 6,
     "metadata": {},
     "output_type": "execute_result"
    }
   ],
   "source": [
    "road.describe().T"
   ]
  },
  {
   "cell_type": "markdown",
   "id": "3be5766c-3a06-4fcf-8235-2a16858abba6",
   "metadata": {},
   "source": [
    "<h3>Cleaning the Data Frame</h3>"
   ]
  },
  {
   "cell_type": "code",
   "execution_count": 7,
   "id": "f5d4536d-2ff8-4a4f-abe6-da1a228ca8ba",
   "metadata": {},
   "outputs": [
    {
     "data": {
      "text/plain": [
       "Index                          0\n",
       "Accident_Severity              0\n",
       "Accident Date                  0\n",
       "Latitude                      25\n",
       "Light_Conditions               0\n",
       "District Area                  0\n",
       "Longitude                     26\n",
       "Number_of_Casualties           0\n",
       "Number_of_Vehicles             0\n",
       "Road_Surface_Conditions      726\n",
       "Road_Type                   4520\n",
       "Urban_or_Rural_Area           15\n",
       "Weather_Conditions         14128\n",
       "Vehicle_Type                   0\n",
       "dtype: int64"
      ]
     },
     "execution_count": 7,
     "metadata": {},
     "output_type": "execute_result"
    }
   ],
   "source": [
    "road.isnull().sum()"
   ]
  },
  {
   "cell_type": "code",
   "execution_count": 8,
   "id": "3253e645-b4cd-473b-b53b-f1b62150db29",
   "metadata": {},
   "outputs": [
    {
     "data": {
      "text/plain": [
       "Index(['Index', 'Accident_Severity', 'Accident Date', 'Latitude',\n",
       "       'Light_Conditions', 'District Area', 'Longitude',\n",
       "       'Number_of_Casualties', 'Number_of_Vehicles', 'Road_Surface_Conditions',\n",
       "       'Road_Type', 'Urban_or_Rural_Area', 'Weather_Conditions',\n",
       "       'Vehicle_Type'],\n",
       "      dtype='object')"
      ]
     },
     "execution_count": 8,
     "metadata": {},
     "output_type": "execute_result"
    }
   ],
   "source": [
    "road.columns"
   ]
  },
  {
   "cell_type": "markdown",
   "id": "bf39d8f3-4272-4b31-82ff-0fcae722216a",
   "metadata": {},
   "source": [
    "<h2>Selecting a column</h2>\n",
    "<h3>Syntax</h3><br>\n",
    "data_frame['column_name']"
   ]
  },
  {
   "cell_type": "markdown",
   "id": "cd3f3549-14d6-40d5-8997-054fa05f318b",
   "metadata": {},
   "source": []
  },
  {
   "cell_type": "code",
   "execution_count": 9,
   "id": "dd5f84e8-126f-4f3f-b966-b93dfe0a68e9",
   "metadata": {},
   "outputs": [
    {
     "data": {
      "text/plain": [
       "0         Serious\n",
       "1         Serious\n",
       "2         Serious\n",
       "3         Serious\n",
       "4          Slight\n",
       "           ...   \n",
       "660674     Slight\n",
       "660675     Slight\n",
       "660676     Slight\n",
       "660677    Serious\n",
       "660678    Serious\n",
       "Name: Accident_Severity, Length: 660679, dtype: object"
      ]
     },
     "execution_count": 9,
     "metadata": {},
     "output_type": "execute_result"
    }
   ],
   "source": [
    "road['Accident_Severity']"
   ]
  },
  {
   "cell_type": "code",
   "execution_count": 10,
   "id": "99291843-3fec-4f63-93d5-378b3830f2fc",
   "metadata": {},
   "outputs": [
    {
     "data": {
      "text/plain": [
       "0           5/6/2019\n",
       "1           2/7/2019\n",
       "2         26-08-2019\n",
       "3         16-08-2019\n",
       "4           3/9/2019\n",
       "             ...    \n",
       "660674    18-02-2022\n",
       "660675    21-02-2022\n",
       "660676    23-02-2022\n",
       "660677    23-02-2022\n",
       "660678    28-02-2022\n",
       "Name: Accident Date, Length: 660679, dtype: object"
      ]
     },
     "execution_count": 10,
     "metadata": {},
     "output_type": "execute_result"
    }
   ],
   "source": [
    "road['Accident Date']"
   ]
  },
  {
   "cell_type": "code",
   "execution_count": 11,
   "id": "c3846d49-4c97-4bdb-87cd-212728e72d19",
   "metadata": {},
   "outputs": [
    {
     "data": {
      "text/plain": [
       "0               Darkness - lights lit\n",
       "1                            Daylight\n",
       "2         Darkness - lighting unknown\n",
       "3                            Daylight\n",
       "4               Darkness - lights lit\n",
       "                     ...             \n",
       "660674                       Daylight\n",
       "660675         Darkness - no lighting\n",
       "660676                       Daylight\n",
       "660677         Darkness - no lighting\n",
       "660678                       Daylight\n",
       "Name: Light_Conditions, Length: 660679, dtype: object"
      ]
     },
     "execution_count": 11,
     "metadata": {},
     "output_type": "execute_result"
    }
   ],
   "source": [
    "road['Light_Conditions']"
   ]
  },
  {
   "cell_type": "code",
   "execution_count": 12,
   "id": "cd04fccf-9ac2-4dfa-b8b5-0dfae96ac679",
   "metadata": {},
   "outputs": [
    {
     "data": {
      "text/plain": [
       "0         Kensington and Chelsea\n",
       "1         Kensington and Chelsea\n",
       "2         Kensington and Chelsea\n",
       "3         Kensington and Chelsea\n",
       "4         Kensington and Chelsea\n",
       "                   ...          \n",
       "660674                  Highland\n",
       "660675                  Highland\n",
       "660676                  Highland\n",
       "660677                  Highland\n",
       "660678                  Highland\n",
       "Name: District Area, Length: 660679, dtype: object"
      ]
     },
     "execution_count": 12,
     "metadata": {},
     "output_type": "execute_result"
    }
   ],
   "source": [
    "road['District Area']"
   ]
  },
  {
   "cell_type": "code",
   "execution_count": 13,
   "id": "83453b9c-d9d2-436a-b800-3cd4b4fd8bb9",
   "metadata": {},
   "outputs": [
    {
     "data": {
      "text/plain": [
       "0         1\n",
       "1         1\n",
       "2         1\n",
       "3         1\n",
       "4         1\n",
       "         ..\n",
       "660674    2\n",
       "660675    1\n",
       "660676    1\n",
       "660677    1\n",
       "660678    1\n",
       "Name: Number_of_Casualties, Length: 660679, dtype: int64"
      ]
     },
     "execution_count": 13,
     "metadata": {},
     "output_type": "execute_result"
    }
   ],
   "source": [
    "road['Number_of_Casualties']"
   ]
  },
  {
   "cell_type": "code",
   "execution_count": 14,
   "id": "c0606d41-103a-437a-bb89-be193633c69e",
   "metadata": {},
   "outputs": [
    {
     "data": {
      "text/plain": [
       "0         2\n",
       "1         2\n",
       "2         3\n",
       "3         4\n",
       "4         2\n",
       "         ..\n",
       "660674    1\n",
       "660675    1\n",
       "660676    3\n",
       "660677    2\n",
       "660678    1\n",
       "Name: Number_of_Vehicles, Length: 660679, dtype: int64"
      ]
     },
     "execution_count": 14,
     "metadata": {},
     "output_type": "execute_result"
    }
   ],
   "source": [
    "road['Number_of_Vehicles']"
   ]
  },
  {
   "cell_type": "code",
   "execution_count": 15,
   "id": "59bf6058-65c7-4493-a98a-3503a0c4a8cd",
   "metadata": {},
   "outputs": [
    {
     "data": {
      "text/plain": [
       "0                                          Car\n",
       "1                                          Car\n",
       "2                        Taxi/Private hire car\n",
       "3         Bus or coach (17 or more pass seats)\n",
       "4                                Other vehicle\n",
       "                          ...                 \n",
       "660674                                     Car\n",
       "660675                                     Car\n",
       "660676                                     Car\n",
       "660677                   Motorcycle over 500cc\n",
       "660678                                     Car\n",
       "Name: Vehicle_Type, Length: 660679, dtype: object"
      ]
     },
     "execution_count": 15,
     "metadata": {},
     "output_type": "execute_result"
    }
   ],
   "source": [
    "road['Vehicle_Type']"
   ]
  },
  {
   "cell_type": "markdown",
   "id": "6a3ec163-be48-477d-9ade-3fac71378aeb",
   "metadata": {},
   "source": [
    "<h1>How to Fill-up Null Values</h1>"
   ]
  },
  {
   "cell_type": "code",
   "execution_count": 16,
   "id": "6422dcdb-7374-4bbb-9aee-b2ab49eefc3d",
   "metadata": {},
   "outputs": [
    {
     "name": "stdout",
     "output_type": "stream",
     "text": [
      "Index                      0\n",
      "Accident_Severity          0\n",
      "Accident Date              0\n",
      "Latitude                   0\n",
      "Light_Conditions           0\n",
      "District Area              0\n",
      "Longitude                  0\n",
      "Number_of_Casualties       0\n",
      "Number_of_Vehicles         0\n",
      "Road_Surface_Conditions    0\n",
      "Road_Type                  0\n",
      "Urban_or_Rural_Area        0\n",
      "Weather_Conditions         0\n",
      "Vehicle_Type               0\n",
      "dtype: int64\n"
     ]
    }
   ],
   "source": [
    "road['Accident_Severity'] = road['Accident_Severity'].fillna(road['Accident_Severity'].mode()[0])\n",
    "road['Light_Conditions'] = road['Light_Conditions'].fillna(road['Light_Conditions'].mode()[0])\n",
    "road['District Area'] = road['District Area'].fillna(road['District Area'].mode()[0])\n",
    "road['Road_Surface_Conditions'] = road['Road_Surface_Conditions'].fillna(road['Road_Surface_Conditions'].mode()[0])\n",
    "road['Road_Type'] = road['Road_Type'].fillna(road['Road_Type'].mode()[0])\n",
    "road['Urban_or_Rural_Area'] = road['Urban_or_Rural_Area'].fillna(road['Urban_or_Rural_Area'].mode()[0])\n",
    "road['Weather_Conditions'] = road['Weather_Conditions'].fillna(road['Weather_Conditions'].mode()[0])\n",
    "road['Vehicle_Type'] = road['Vehicle_Type'].fillna(road['Vehicle_Type'].mode()[0])\n",
    "road['Latitude'] = road['Latitude'].fillna(road['Latitude'].mean())\n",
    "road['Longitude'] = road['Longitude'].fillna(road['Longitude'].mean())\n",
    "\n",
    "print(road.isnull().sum())"
   ]
  },
  {
   "cell_type": "code",
   "execution_count": 17,
   "id": "a57e7f2f-dff5-4430-bc69-751955e629f4",
   "metadata": {},
   "outputs": [
    {
     "data": {
      "text/plain": [
       "Index                      0\n",
       "Accident_Severity          0\n",
       "Accident Date              0\n",
       "Latitude                   0\n",
       "Light_Conditions           0\n",
       "District Area              0\n",
       "Longitude                  0\n",
       "Number_of_Casualties       0\n",
       "Number_of_Vehicles         0\n",
       "Road_Surface_Conditions    0\n",
       "Road_Type                  0\n",
       "Urban_or_Rural_Area        0\n",
       "Weather_Conditions         0\n",
       "Vehicle_Type               0\n",
       "Year                       0\n",
       "Month                      0\n",
       "Day                        0\n",
       "DayOfWeek                  0\n",
       "dtype: int64"
      ]
     },
     "execution_count": 17,
     "metadata": {},
     "output_type": "execute_result"
    }
   ],
   "source": [
    "# Step 1: Convert to string only if not null\n",
    "df['Accident Date'] = df['Accident Date'].astype(str)\n",
    "# Step 2: Replace '/' with '-' safely\n",
    "df['Accident Date'] = df['Accident Date'].apply(lambda x: x.replace('/', '-') if pd.notnull(x) else x)\n",
    "# Step 3: Strip whitespace\n",
    "df['Accident Date'] = df['Accident Date'].apply(lambda x: x.strip() if pd.notnull(x) else x)\n",
    "# Step 4: Convert to datetime\n",
    "df['Accident Date'] = pd.to_datetime(df['Accident Date'], dayfirst=True, errors='coerce')\n",
    "\n",
    "\n",
    "df['Latitude'] = df['Latitude'].fillna(df['Latitude'].mode()[0])\n",
    "df['Longitude'] = df['Longitude'].fillna(df['Longitude'].mode()[0])\n",
    "df['Road_Surface_Conditions'] = df['Road_Surface_Conditions'].fillna('unaccounted')\n",
    "df['Road_Type'] = df['Road_Type'].fillna('unaccounted')\n",
    "df['Weather_Conditions'] = df['Weather_Conditions'].fillna('unaccounted_weather_condition')\n",
    "df['Urban_or_Rural_Area'] = df['Urban_or_Rural_Area'].fillna('unknown_area')\n",
    "df.dtypes\n",
    "df.isnull().sum()\n",
    "\n",
    "df['Year'] = df['Accident Date'].dt.year\n",
    "df['Month'] =  df['Accident Date'].dt.month\n",
    "df['Day'] =  df['Accident Date'].dt.day\n",
    "df['DayOfWeek'] =  df['Accident Date'].dt.dayofweek\n",
    "df.isnull().sum()"
   ]
  },
  {
   "cell_type": "code",
   "execution_count": 18,
   "id": "353c4a7a-c15c-49ad-8dc3-325650115c95",
   "metadata": {},
   "outputs": [],
   "source": [
    "df['Index'] = df['Index'].astype('str')\n",
    "df['Accident_Severity'] = df['Accident_Severity'].astype('category')\n",
    "df['Light_Conditions'] = df['Light_Conditions'].astype('category')\n",
    "df['District Area'] = df['District Area'].astype('category')\n",
    "df['Road_Surface_Conditions'] = df['Road_Surface_Conditions'].astype('category')\n",
    "df['Road_Type'] = df['Road_Type'].astype('category')\n",
    "df['Urban_or_Rural_Area'] = df['Urban_or_Rural_Area'].astype('category')\n",
    "df['Weather_Conditions'] = df['Weather_Conditions'].astype('category')\n",
    "df['Vehicle_Type'] = df['Vehicle_Type'].astype('category')\n",
    "df['Day'] = df['Day'].astype('category')"
   ]
  },
  {
   "cell_type": "markdown",
   "id": "72bf6ebd-dd2a-4e70-b290-9629a18c3acd",
   "metadata": {},
   "source": [
    "# Insight #1"
   ]
  },
  {
   "cell_type": "markdown",
   "id": "29f176d0-20dc-4351-b0c8-2c04bf62bdf1",
   "metadata": {},
   "source": [
    "<h3>1. How many total accidents are in the dataset?<h3>"
   ]
  },
  {
   "cell_type": "code",
   "execution_count": 19,
   "id": "af73cebb-09f6-4ab9-9315-6ba859f96441",
   "metadata": {},
   "outputs": [
    {
     "name": "stdout",
     "output_type": "stream",
     "text": [
      "Total accidents: 660679\n"
     ]
    }
   ],
   "source": [
    "print(\"Total accidents:\", len(road))\n"
   ]
  },
  {
   "cell_type": "markdown",
   "id": "9089909e-592a-46f3-80b5-60320e538926",
   "metadata": {},
   "source": [
    "<h3>2. How many unique accident severities are recorded?<h3>"
   ]
  },
  {
   "cell_type": "code",
   "execution_count": 20,
   "id": "f00bc821-e849-472b-a341-0af1daf55436",
   "metadata": {},
   "outputs": [
    {
     "name": "stdout",
     "output_type": "stream",
     "text": [
      "Unique Accident Severity levels: ['Serious' 'Slight' 'Fatal']\n"
     ]
    }
   ],
   "source": [
    "print(\"Unique Accident Severity levels:\", road['Accident_Severity'].unique())\n"
   ]
  },
  {
   "cell_type": "markdown",
   "id": "9eb18311-782a-4a3f-af37-0f5f2d0b5126",
   "metadata": {},
   "source": [
    "- Some columns like Weather_Conditions and Road_Type have missing data."
   ]
  },
  {
   "cell_type": "markdown",
   "id": "39089f09-a87e-4448-bfb1-327cb5f43485",
   "metadata": {},
   "source": [
    "<h3>3. Which severity occurs most often?<h3>"
   ]
  },
  {
   "cell_type": "code",
   "execution_count": 21,
   "id": "4c188542-af6a-4132-810e-68d5855694a1",
   "metadata": {},
   "outputs": [
    {
     "name": "stdout",
     "output_type": "stream",
     "text": [
      "Accident_Severity\n",
      "Slight     563801\n",
      "Serious     88217\n",
      "Fatal        8661\n",
      "Name: count, dtype: int64\n"
     ]
    }
   ],
   "source": [
    "print(road['Accident_Severity'].value_counts())\n"
   ]
  },
  {
   "cell_type": "markdown",
   "id": "41c760bd-8eba-48f5-8b82-ee30eadeecc2",
   "metadata": {},
   "source": [
    "<h3>4. Average number of vehicles involved per accident?<h3>"
   ]
  },
  {
   "cell_type": "code",
   "execution_count": 22,
   "id": "f2f7fb78-10ae-4745-82ec-dc2fac5ff417",
   "metadata": {},
   "outputs": [
    {
     "name": "stdout",
     "output_type": "stream",
     "text": [
      "Average vehicles per accident: 1.8312554205597575\n"
     ]
    }
   ],
   "source": [
    "print(\"Average vehicles per accident:\", road['Number_of_Vehicles'].mean())\n"
   ]
  },
  {
   "cell_type": "markdown",
   "id": "8a05b446-17ee-4223-8903-59e01c320183",
   "metadata": {},
   "source": [
    "<h3>5. Average number of casualties per accident?<h3>"
   ]
  },
  {
   "cell_type": "code",
   "execution_count": 23,
   "id": "82bad27f-5ce9-46e6-8f82-733652feb731",
   "metadata": {},
   "outputs": [
    {
     "name": "stdout",
     "output_type": "stream",
     "text": [
      "Average casualties per accident: 1.357040257068864\n"
     ]
    }
   ],
   "source": [
    "print(\"Average casualties per accident:\", road['Number_of_Casualties'].mean())\n"
   ]
  },
  {
   "cell_type": "markdown",
   "id": "f53683a3-33af-4bef-a3ec-14ffd7b9f22a",
   "metadata": {},
   "source": [
    "- The highest recorded casualties in one accident is {max_value}."
   ]
  },
  {
   "cell_type": "markdown",
   "id": "cca948bd-40c6-4f22-9dbb-3680fb4fe270",
   "metadata": {},
   "source": [
    "<h3>6. Maximum casualties in a single accident?<h3>"
   ]
  },
  {
   "cell_type": "code",
   "execution_count": 24,
   "id": "11429340-4239-4262-bfac-f203234e2294",
   "metadata": {},
   "outputs": [
    {
     "name": "stdout",
     "output_type": "stream",
     "text": [
      "Max casualties in one accident: 68\n"
     ]
    }
   ],
   "source": [
    "print(\"Max casualties in one accident:\", road['Number_of_Casualties'].max())\n"
   ]
  },
  {
   "cell_type": "markdown",
   "id": "31883fab-0463-4bc2-852d-bdb15fa3ed80",
   "metadata": {},
   "source": [
    "<h3>7. Which weather condition had the most accidents?<h3>"
   ]
  },
  {
   "cell_type": "code",
   "execution_count": 25,
   "id": "a0da925f-0bed-4375-8748-c4e255fd1d86",
   "metadata": {},
   "outputs": [
    {
     "name": "stdout",
     "output_type": "stream",
     "text": [
      "Weather_Conditions\n",
      "Fine no high winds       535013\n",
      "Raining no high winds     79696\n",
      "Other                     17150\n",
      "Raining + high winds       9615\n",
      "Fine + high winds          8554\n",
      "Snowing no high winds      6238\n",
      "Fog or mist                3528\n",
      "Snowing + high winds        885\n",
      "Name: count, dtype: int64\n"
     ]
    }
   ],
   "source": [
    "print(road['Weather_Conditions'].value_counts())\n"
   ]
  },
  {
   "cell_type": "markdown",
   "id": "54eac23a-d2b3-4083-9689-986ec43c15f3",
   "metadata": {},
   "source": [
    "- Most accidents involve around 1–2 vehicles."
   ]
  },
  {
   "cell_type": "markdown",
   "id": "a73387c7-5798-4b16-b16f-6b6e3a28d3ab",
   "metadata": {},
   "source": [
    "<h3>8. Which road type is most accident-prone?<h3>"
   ]
  },
  {
   "cell_type": "code",
   "execution_count": 26,
   "id": "558cb346-7735-432c-a182-18e506ef1b3a",
   "metadata": {},
   "outputs": [
    {
     "name": "stdout",
     "output_type": "stream",
     "text": [
      "Road_Type\n",
      "Single carriageway    496663\n",
      "Dual carriageway       99424\n",
      "Roundabout             43992\n",
      "One way street         13559\n",
      "Slip road               7041\n",
      "Name: count, dtype: int64\n"
     ]
    }
   ],
   "source": [
    "print(road['Road_Type'].value_counts())\n"
   ]
  },
  {
   "cell_type": "markdown",
   "id": "c8421548-4434-40c7-8759-ee80371a27b4",
   "metadata": {},
   "source": [
    "<h3>9. Which road surface condition is most common during accidents?<h3>"
   ]
  },
  {
   "cell_type": "code",
   "execution_count": 27,
   "id": "9efcfd43-71ba-49e6-8ce2-0b8eddc08bf1",
   "metadata": {},
   "outputs": [
    {
     "name": "stdout",
     "output_type": "stream",
     "text": [
      "Road_Surface_Conditions\n",
      "Dry                     448547\n",
      "Wet or damp             186708\n",
      "Frost or ice             18517\n",
      "Snow                      5890\n",
      "Flood over 3cm. deep      1017\n",
      "Name: count, dtype: int64\n"
     ]
    }
   ],
   "source": [
    "print(road['Road_Surface_Conditions'].value_counts())\n"
   ]
  },
  {
   "cell_type": "markdown",
   "id": "9694ffc7-99d8-4453-b273-da9229506584",
   "metadata": {},
   "source": [
    "<h3>10. Which light condition has the most accidents?<h3>"
   ]
  },
  {
   "cell_type": "code",
   "execution_count": 28,
   "id": "c9ddc13a-9865-4c4c-b689-942ea3d6759f",
   "metadata": {},
   "outputs": [
    {
     "name": "stdout",
     "output_type": "stream",
     "text": [
      "Light_Conditions\n",
      "Daylight                       484880\n",
      "Darkness - lights lit          129335\n",
      "Darkness - no lighting          37437\n",
      "Darkness - lighting unknown      6484\n",
      "Darkness - lights unlit          2543\n",
      "Name: count, dtype: int64\n"
     ]
    }
   ],
   "source": [
    "print(road['Light_Conditions'].value_counts())\n"
   ]
  },
  {
   "cell_type": "markdown",
   "id": "8d8df70c-d240-4cd1-b166-72581bc976ca",
   "metadata": {},
   "source": [
    "<h3>11. Urban vs Rural — where do more accidents occur?<h3>"
   ]
  },
  {
   "cell_type": "code",
   "execution_count": 29,
   "id": "68aec8c3-86ba-4937-9c92-1e3a781c0741",
   "metadata": {},
   "outputs": [
    {
     "name": "stdout",
     "output_type": "stream",
     "text": [
      "Urban_or_Rural_Area\n",
      "Urban          421678\n",
      "Rural          238990\n",
      "Unallocated        11\n",
      "Name: count, dtype: int64\n"
     ]
    }
   ],
   "source": [
    "print(road['Urban_or_Rural_Area'].value_counts())\n"
   ]
  },
  {
   "cell_type": "markdown",
   "id": "45ea4076-e41d-498b-a73b-049f41234f1e",
   "metadata": {},
   "source": [
    "<h3>12. Average number of casualties by accident severity<h3>"
   ]
  },
  {
   "cell_type": "code",
   "execution_count": 30,
   "id": "a227f9c8-b6eb-43e3-bb62-a3eea4ca2808",
   "metadata": {},
   "outputs": [
    {
     "name": "stdout",
     "output_type": "stream",
     "text": [
      "Accident_Severity\n",
      "Fatal      1.903129\n",
      "Serious    1.467280\n",
      "Slight     1.331402\n",
      "Name: Number_of_Casualties, dtype: float64\n"
     ]
    }
   ],
   "source": [
    "print(road.groupby('Accident_Severity')['Number_of_Casualties'].mean())\n"
   ]
  },
  {
   "cell_type": "markdown",
   "id": "95742f29-3af2-43a8-a762-145fb18fd589",
   "metadata": {},
   "source": [
    "<h3>13. Average number of vehicles by accident severity<h3>"
   ]
  },
  {
   "cell_type": "code",
   "execution_count": 31,
   "id": "73ecdd7c-ddac-4b42-ae19-814edac927d6",
   "metadata": {},
   "outputs": [
    {
     "name": "stdout",
     "output_type": "stream",
     "text": [
      "Accident_Severity\n",
      "Fatal      1.786976\n",
      "Serious    1.678327\n",
      "Slight     1.855864\n",
      "Name: Number_of_Vehicles, dtype: float64\n"
     ]
    }
   ],
   "source": [
    "print(road.groupby('Accident_Severity')['Number_of_Vehicles'].mean())\n"
   ]
  },
  {
   "cell_type": "markdown",
   "id": "b691d45d-91e9-41b4-b0a8-056c12719877",
   "metadata": {},
   "source": [
    "<h3>14. Correlation between vehicles and casualties<h3>"
   ]
  },
  {
   "cell_type": "code",
   "execution_count": 32,
   "id": "930ab5dc-fcc2-451c-8910-913251e87eeb",
   "metadata": {},
   "outputs": [
    {
     "name": "stdout",
     "output_type": "stream",
     "text": [
      "                      Number_of_Vehicles  Number_of_Casualties\n",
      "Number_of_Vehicles              1.000000              0.228889\n",
      "Number_of_Casualties            0.228889              1.000000\n"
     ]
    }
   ],
   "source": [
    "print(road[['Number_of_Vehicles','Number_of_Casualties']].corr())\n"
   ]
  },
  {
   "cell_type": "markdown",
   "id": "6cf79b88-4798-45d6-8154-14929c8be7be",
   "metadata": {},
   "source": [
    "<h3>15. Month with the most accidents (if Accident Date is parsed as datetime)<h3>"
   ]
  },
  {
   "cell_type": "code",
   "execution_count": 33,
   "id": "0919f4ab-1b70-4e9b-a3e0-6bdf9075fe17",
   "metadata": {},
   "outputs": [
    {
     "name": "stdout",
     "output_type": "stream",
     "text": [
      "Accident Date\n",
      "11.0    24240\n",
      "12.0    24156\n",
      "10.0    23962\n",
      "7.0     22939\n",
      "9.0     22558\n",
      "2.0     22264\n",
      "6.0     22196\n",
      "3.0     21824\n",
      "5.0     21723\n",
      "8.0     21106\n",
      "4.0     19787\n",
      "1.0     18252\n",
      "Name: count, dtype: int64\n"
     ]
    }
   ],
   "source": [
    "road['Accident Date'] = pd.to_datetime(road['Accident Date'], dayfirst=True, errors='coerce')\n",
    "\n",
    "print(road['Accident Date'].dt.month.value_counts())\n",
    "\n",
    "\n"
   ]
  },
  {
   "cell_type": "markdown",
   "id": "9a705712-4f94-4736-8502-99ce367d049f",
   "metadata": {},
   "source": [
    "<h3>16. Day of week with most accidents<h3>"
   ]
  },
  {
   "cell_type": "code",
   "execution_count": 34,
   "id": "27d8d7aa-e6ea-466d-a787-96bd5c7e2f0b",
   "metadata": {},
   "outputs": [
    {
     "name": "stdout",
     "output_type": "stream",
     "text": [
      "Accident Date\n",
      "Saturday     43164\n",
      "Wednesday    40037\n",
      "Friday       39822\n",
      "Thursday     39641\n",
      "Tuesday      38714\n",
      "Sunday       35065\n",
      "Monday       28564\n",
      "Name: count, dtype: int64\n"
     ]
    }
   ],
   "source": [
    "print(road['Accident Date'].dt.day_name().value_counts())\n"
   ]
  },
  {
   "cell_type": "markdown",
   "id": "1a8b9207-83cc-40c4-86bc-f1570593d234",
   "metadata": {},
   "source": [
    "<h3>17. Average casualties depending on road type<h3>"
   ]
  },
  {
   "cell_type": "code",
   "execution_count": 35,
   "id": "5844fcd4-e1ba-4113-bc70-f2bd359fb333",
   "metadata": {},
   "outputs": [
    {
     "name": "stdout",
     "output_type": "stream",
     "text": [
      "Road_Type\n",
      "Dual carriageway      1.477279\n",
      "One way street        1.192713\n",
      "Roundabout            1.274891\n",
      "Single carriageway    1.343788\n",
      "Slip road             1.423661\n",
      "Name: Number_of_Casualties, dtype: float64\n"
     ]
    }
   ],
   "source": [
    "print(road.groupby('Road_Type')['Number_of_Casualties'].mean())\n"
   ]
  },
  {
   "cell_type": "markdown",
   "id": "d08d8fb0-6c37-456b-927d-35e5bcdb8e74",
   "metadata": {},
   "source": [
    "<h3>18. Top 5 weather conditions with highest average casualties<h3>"
   ]
  },
  {
   "cell_type": "code",
   "execution_count": 36,
   "id": "f081aeab-9fb2-4853-9738-9816c9d3e9ed",
   "metadata": {},
   "outputs": [
    {
     "name": "stdout",
     "output_type": "stream",
     "text": [
      "Weather_Conditions\n",
      "Fog or mist              1.452948\n",
      "Snowing + high winds     1.418079\n",
      "Raining + high winds     1.416641\n",
      "Raining no high winds    1.408214\n",
      "Fine + high winds        1.386018\n",
      "Name: Number_of_Casualties, dtype: float64\n"
     ]
    }
   ],
   "source": [
    "print(road.groupby('Weather_Conditions')['Number_of_Casualties'].mean().sort_values(ascending=False).head())\n"
   ]
  },
  {
   "cell_type": "markdown",
   "id": "76dfca03-7ef9-4eee-bc74-1aa0b89f91cc",
   "metadata": {},
   "source": [
    "Insight:\n",
    "\n",
    "- Fog or mist accidents have the highest average casualties (~1.45).\n",
    "\n",
    "- Snowing + high winds and Raining + high winds also show high averages (~1.41–1.42).\n",
    "\n",
    "- Even fine weather with high winds increases casualties (~1.38)."
   ]
  },
  {
   "cell_type": "markdown",
   "id": "57855ce3-8b45-42d2-bf88-f61cfaf1de3f",
   "metadata": {},
   "source": [
    "<h3>19. Vehicle type most often involved in accidents<h3>"
   ]
  },
  {
   "cell_type": "code",
   "execution_count": 37,
   "id": "4f69d79c-5e95-41a0-95c2-c07a0ecb616f",
   "metadata": {},
   "outputs": [
    {
     "name": "stdout",
     "output_type": "stream",
     "text": [
      "Vehicle_Type\n",
      "Car                                      497992\n",
      "Van / Goods 3.5 tonnes mgw or under       34160\n",
      "Bus or coach (17 or more pass seats)      25878\n",
      "Motorcycle over 500cc                     25657\n",
      "Goods 7.5 tonnes mgw and over             17307\n",
      "Motorcycle 125cc and under                15269\n",
      "Taxi/Private hire car                     13294\n",
      "Motorcycle over 125cc and up to 500cc      7656\n",
      "Motorcycle 50cc and under                  7603\n",
      "Goods over 3.5t. and under 7.5t            6096\n",
      "Other vehicle                              5637\n",
      "Minibus (8 - 16 passenger seats)           1976\n",
      "Agricultural vehicle                       1947\n",
      "Pedal cycle                                 197\n",
      "Data missing or out of range                  6\n",
      "Ridden horse                                  4\n",
      "Name: count, dtype: int64\n"
     ]
    }
   ],
   "source": [
    "print(road['Vehicle_Type'].value_counts())\n"
   ]
  },
  {
   "cell_type": "markdown",
   "id": "442150fb-c358-48b7-8f82-254514898dd7",
   "metadata": {},
   "source": [
    "- Cars are the most common vehicles involved in accidents (497,992).\n",
    "\n",
    "- Vans (under 3.5 tonnes) and buses follow, with over 25,000 cases each.\n",
    "\n",
    "- Motorcycles also appear often, especially those over 500cc."
   ]
  },
  {
   "cell_type": "markdown",
   "id": "91a13da2-c12b-410c-a74b-94f03c11f269",
   "metadata": {},
   "source": [
    "<h3>20. Accident hot-spot (most frequent Latitude/Longitude combination)<h3>"
   ]
  },
  {
   "cell_type": "code",
   "execution_count": 38,
   "id": "fc06936f-1168-4a14-9663-bbb27beee444",
   "metadata": {},
   "outputs": [
    {
     "name": "stdout",
     "output_type": "stream",
     "text": [
      "Latitude   Longitude\n",
      "52.949719  -0.977611    45\n",
      "dtype: int64\n"
     ]
    }
   ],
   "source": [
    "print(road.groupby(['Latitude','Longitude']).size().sort_values(ascending=False).head(1))\n"
   ]
  },
  {
   "cell_type": "markdown",
   "id": "7ba8ce20-abe9-4218-a089-b71dbeb5f8d0",
   "metadata": {},
   "source": [
    "The most frequent hotspot is at Latitude 52.949719 and Longitude -0.977611, with 45 accidents recorded at that location."
   ]
  },
  {
   "cell_type": "code",
   "execution_count": 39,
   "id": "10e1ff07-8551-4f54-b632-99fd02c28220",
   "metadata": {},
   "outputs": [
    {
     "name": "stdout",
     "output_type": "stream",
     "text": [
      "Index                              object\n",
      "Accident_Severity                  object\n",
      "Accident Date              datetime64[ns]\n",
      "Latitude                          float64\n",
      "Light_Conditions                   object\n",
      "District Area                      object\n",
      "Longitude                         float64\n",
      "Number_of_Casualties                int64\n",
      "Number_of_Vehicles                  int64\n",
      "Road_Surface_Conditions            object\n",
      "Road_Type                          object\n",
      "Urban_or_Rural_Area                object\n",
      "Weather_Conditions                 object\n",
      "Vehicle_Type                       object\n",
      "Year                              float64\n",
      "Month                             float64\n",
      "Day                               float64\n",
      "DayOfWeek                         float64\n",
      "dtype: object\n",
      "Index                           0\n",
      "Accident_Severity               0\n",
      "Accident Date              395672\n",
      "Latitude                        0\n",
      "Light_Conditions                0\n",
      "District Area                   0\n",
      "Longitude                       0\n",
      "Number_of_Casualties            0\n",
      "Number_of_Vehicles              0\n",
      "Road_Surface_Conditions         0\n",
      "Road_Type                       0\n",
      "Urban_or_Rural_Area             0\n",
      "Weather_Conditions              0\n",
      "Vehicle_Type                    0\n",
      "Year                       395672\n",
      "Month                      395672\n",
      "Day                        395672\n",
      "DayOfWeek                  395672\n",
      "dtype: int64\n"
     ]
    }
   ],
   "source": [
    "# --- Date Cleaning ---\n",
    "road['Accident Date'] = (\n",
    "    road['Accident Date']\n",
    "    .astype(str)                                        # Convert to string\n",
    "    .str.replace('/', '-', regex=False)                 # Replace '/' with '-'\n",
    "    .str.strip()                                        # Remove whitespace\n",
    ")\n",
    "\n",
    "# Convert to datetime safely\n",
    "road['Accident Date'] = pd.to_datetime(road['Accident Date'], dayfirst=True, errors='coerce')\n",
    "\n",
    "# --- Missing Values Handling ---\n",
    "road['Latitude'] = road['Latitude'].fillna(road['Latitude'].mode()[0])\n",
    "road['Longitude'] = road['Longitude'].fillna(road['Longitude'].mode()[0])\n",
    "road['Road_Surface_Conditions'] = road['Road_Surface_Conditions'].fillna('unaccounted')\n",
    "road['Road_Type'] = road['Road_Type'].fillna('unaccounted')\n",
    "road['Weather_Conditions'] = road['Weather_Conditions'].fillna('unaccounted')\n",
    "\n",
    "# --- New Date Features ---\n",
    "road['Year'] = road['Accident Date'].dt.year\n",
    "road['Month'] = road['Accident Date'].dt.month\n",
    "road['Day'] = road['Accident Date'].dt.day\n",
    "road['DayOfWeek'] = road['Accident Date'].dt.dayofweek\n",
    "\n",
    "# --- Check Results ---\n",
    "print(road.dtypes)          # Check column types\n",
    "print(road.isnull().sum())  # Verify no missing values remain"
   ]
  },
  {
   "cell_type": "code",
   "execution_count": 40,
   "id": "f6e1c8c0-d117-494c-8dc3-59d438e48f42",
   "metadata": {},
   "outputs": [
    {
     "data": {
      "text/plain": [
       "<Axes: xlabel='Year'>"
      ]
     },
     "execution_count": 40,
     "metadata": {},
     "output_type": "execute_result"
    },
    {
     "data": {
      "image/png": "[encoded data removed]",
      "text/plain": [
       "<Figure size 640x480 with 1 Axes>"
      ]
     },
     "metadata": {},
     "output_type": "display_data"
    }
   ],
   "source": [
    "# Example: Bar chart of accident counts per year\n",
    "import matplotlib.pyplot as plt\n",
    "df.groupby('Year')['Index'].count(\n",
    "    \n",
    ").plot(kind='bar')"
   ]
  },
  {
   "cell_type": "code",
   "execution_count": 41,
   "id": "8df2040a-eb9f-40fb-bf17-f7a2a9412823",
   "metadata": {},
   "outputs": [
    {
     "data": {
      "image/png": "[encoded data removed]",
      "text/plain": [
       "<Figure size 640x480 with 1 Axes>"
      ]
     },
     "metadata": {},
     "output_type": "display_data"
    }
   ],
   "source": [
    "\n",
    "df['Vehicle_Type'].value_counts().plot(kind='bar')\n",
    "plt.show()"
   ]
  },
  {
   "cell_type": "code",
   "execution_count": 42,
   "id": "b5768b97-e501-4008-bed0-d6962735949e",
   "metadata": {},
   "outputs": [],
   "source": [
    "nocar_df = df[df['Vehicle_Type'] != 'Car']\n",
    "# nocar_df\n"
   ]
  },
  {
   "cell_type": "code",
   "execution_count": 43,
   "id": "950295a3-5a41-4555-9a7c-341671654dde",
   "metadata": {},
   "outputs": [
    {
     "data": {
      "image/png": "[encoded data removed]",
      "text/plain": [
       "<Figure size 640x480 with 1 Axes>"
      ]
     },
     "metadata": {},
     "output_type": "display_data"
    }
   ],
   "source": [
    "nocar_df['Vehicle_Type'].value_counts().plot(kind='bar')\n",
    "plt.show()"
   ]
  },
  {
   "cell_type": "code",
   "execution_count": 44,
   "id": "1051379d-3c11-42e4-aafa-210bcf256f8d",
   "metadata": {},
   "outputs": [
    {
     "data": {
      "image/png": "[encoded data removed]",
      "text/plain": [
       "<Figure size 1000x500 with 1 Axes>"
      ]
     },
     "metadata": {},
     "output_type": "display_data"
    }
   ],
   "source": [
    "import matplotlib.pyplot as plt\n",
    "\n",
    "# 1. Group by Year FIRST, then Month (critical order!)\n",
    "monthly_data = df.groupby(['Year', 'Month']).size()\n",
    "\n",
    "# 2. Unstack Year to create separate lines for each year\n",
    "monthly_data = monthly_data.unstack(level=0)\n",
    "\n",
    "# 3. Plot with clean formatting (only 4 lines!)\n",
    "monthly_data.plot(\n",
    "    marker='o', \n",
    "    figsize=(10, 5),\n",
    "    title='Monthly Road Accidents by Year (2019-2022)'\n",
    ")\n",
    "plt.xticks(range(1, 13), ['Jan','Feb','Mar','Apr','May','Jun','Jul','Aug','Sep','Oct','Nov','Dec'])\n",
    "plt.legend(title='Year and Month Severity Comparison', bbox_to_anchor = (1.05,1), loc='upper left')\n",
    "plt.grid(alpha=0.3)\n",
    "plt.show()"
   ]
  },
  {
   "cell_type": "code",
   "execution_count": null,
   "id": "dd4e808e-138e-45aa-adf2-f6d65ef132b4",
   "metadata": {},
   "outputs": [],
   "source": [
    "sns.pairplot(\n",
    "    road[['Number_of_Casualties', 'Number_of_Vehicles', 'DayOfWeek']],\n",
    "    kind='reg',  \n",
    "    plot_kws={'line_kws': {'color': 'red'}}  # Makes trend lines red\n",
    ")\n",
    "plt.suptitle('Numerical Relationships in Accident Data', y=1.02, fontsize=16)\n",
    "plt.show()"
   ]
  },
  {
   "cell_type": "code",
   "execution_count": null,
   "id": "a9c87b7d-34d0-43d4-9ce7-707040762d6d",
   "metadata": {},
   "outputs": [],
   "source": [
    "# Create a copy to avoid changing original data\n",
    "corr_df = df.copy()\n",
    "\n",
    "# Convert Accident_Severity to numerical (1=Slight, 2=Serious, 3=Fatal)\n",
    "severity_map = {'Slight': 1, 'Serious': 2, 'Fatal': 3}\n",
    "corr_df['Severity_Num'] = corr_df['Accident_Severity'].map(severity_map)\n",
    "\n",
    "# Convert Urban_or_Rural_Area to numerical (1=Urban, 0=Rural)\n",
    "area_map = {'Urban': 1, 'Rural': 0}\n",
    "corr_df['Area_Num'] = corr_df['Urban_or_Rural_Area'].map(area_map)\n",
    "\n",
    "# Convert Weather_Conditions to risk level (simplified)\n",
    "weather_map = {\n",
    "    'Fine no high winds': 1,\n",
    "    'Raining no high winds': 2,\n",
    "    'Snowing no high winds': 3,\n",
    "    'Fog or mist': 2,\n",
    "    'Other': 2\n",
    "}\n",
    "corr_df['Weather_Risk'] = corr_df['Weather_Conditions'].map(weather_map).fillna(1)"
   ]
  },
  {
   "cell_type": "code",
   "execution_count": null,
   "id": "b4637af3-1966-40e0-b81c-1e3eb93e1f91",
   "metadata": {},
   "outputs": [],
   "source": [
    "# Calculate correlations between our numerical variables\n",
    "correlation_matrix = corr_df[['Severity_Num', 'Area_Num', 'Weather_Risk', \n",
    "                             'Number_of_Casualties', 'Number_of_Vehicles']].corr()\n",
    "\n",
    "# Create heatmap\n",
    "plt.figure(figsize=(10, 8))\n",
    "sns.heatmap(\n",
    "    correlation_matrix,\n",
    "    annot=True,        # Show correlation values\n",
    "    fmt=\".2f\",         # Format to 2 decimal places\n",
    "    cmap='coolwarm',   # Blue=negative, Red=positive\n",
    "    center=0,          # Center at 0 correlation\n",
    "    linewidths=0.5\n",
    ")\n",
    "\n",
    "plt.title('Correlation Between Road Safety Factors', fontsize=14)\n",
    "plt.tight_layout()\n",
    "plt.show()"
   ]
  },
  {
   "cell_type": "code",
   "execution_count": null,
   "id": "bb01a8f7-733b-42ff-a90b-95055ada42ec",
   "metadata": {},
   "outputs": [],
   "source": [
    "# Accidents per year\n",
    "accidents_per_year = df['Year'].value_counts().sort_index()\n",
    "accidents_per_month = df['Month'].value_counts().sort_index()\n",
    "accidents_per_day = df['DayOfWeek'].value_counts().sort_index()\n",
    "\n",
    "\n",
    "#PER YEAR \n",
    "accidents_per_year.plot(kind='bar')\n",
    "plt.title('Accidents per Year')\n",
    "plt.xlabel('Year')\n",
    "plt.ylabel('Number of Accidents')\n",
    "plt.show()\n",
    "\n",
    "month_names = {\n",
    "    1: 'January', 2: 'February', 3: 'March', 4: 'April',\n",
    "    5: 'May', 6: 'June', 7: 'July', 8: 'August',\n",
    "    9: 'September', 10: 'October', 11: 'November', 12: 'December'\n",
    "}\n",
    "\n",
    "# Replace numerical months with their names\n",
    "accidents_per_month.index = accidents_per_month.index.map(month_names)\n",
    "\n",
    "\n",
    "accidents_per_month.plot(kind='bar')\n",
    "plt.title('Accidents per Month')\n",
    "plt.xlabel('Month')\n",
    "plt.ylabel('Number of Accidents')\n",
    "plt.show()\n",
    "\n",
    "\n",
    "#accident per day\n",
    "day_names = {\n",
    "    0: 'Monday',\n",
    "    1: 'Tuesday',\n",
    "    2: 'Wednesday',\n",
    "    3: 'Thursday',\n",
    "    4: 'Friday',\n",
    "    5: 'Saturday',\n",
    "    6: 'Sunday'\n",
    "}\n",
    "\n",
    "accidents_per_day.index = accidents_per_day.index.map(day_names)\n",
    "accidents_per_day.plot(kind='bar')\n",
    "print(accidents_per_day)"
   ]
  },
  {
   "cell_type": "code",
   "execution_count": null,
   "id": "6124a92d-4e19-46ec-a945-65b2db9bdf1f",
   "metadata": {},
   "outputs": [],
   "source": [
    "accidents_per_month = df['Month'].value_counts().sort_index()\n",
    "accidents_per_month\n"
   ]
  },
  {
   "cell_type": "markdown",
   "id": "dfaf579d-e133-4547-ac7e-f1a1d0d732a2",
   "metadata": {},
   "source": [
    "<h3>Accident Severity </h3>\n"
   ]
  },
  {
   "cell_type": "code",
   "execution_count": null,
   "id": "05671bc2-ded0-43df-898d-a3554a097eb1",
   "metadata": {},
   "outputs": [],
   "source": [
    "severity_counts = df['Accident_Severity'].value_counts()\n",
    "\n",
    "plt.pie(severity_counts,\n",
    "        labels = severity_counts.index,\n",
    "        autopct = '%1.1f%%',\n",
    "        startangle = 90)\n",
    "plt.gcf().set_size_inches(10,7)\n",
    "plt.title('Accident Severity Distribution')\n",
    "plt.show()\n",
    "\n",
    "severity_2019 = df[df['Year'] == 2019]\n",
    "# severity_2019\n",
    "sc_2019 = severity_2019['Accident_Severity'].value_counts()\n",
    "\n",
    "plt.pie(sc_2019,\n",
    "        labels = sc_2019.index,\n",
    "        autopct = '%1.1f%%',\n",
    "        startangle = 90)\n",
    "plt.gcf().set_size_inches(10,7)\n",
    "plt.title('Accident Severity Distribution')\n",
    "plt.show()\n"
   ]
  },
  {
   "cell_type": "markdown",
   "id": "ba404fe0-16a3-4c4c-9327-4408f6b10ecc",
   "metadata": {},
   "source": [
    "<h1>Using District Area to make a comparison to a general result </h1>\n",
    "<h3>London Analysis</h3>\n"
   ]
  },
  {
   "cell_type": "code",
   "execution_count": null,
   "id": "69856eaf-a562-41f6-b767-e78fa6784514",
   "metadata": {},
   "outputs": [],
   "source": [
    "# df.dtypes\n",
    "london_df = df[df['District Area'] == 'City of London']\n"
   ]
  },
  {
   "cell_type": "code",
   "execution_count": null,
   "id": "7955110d-7a24-4ec7-9334-15c59f28a8a0",
   "metadata": {},
   "outputs": [],
   "source": [
    "monthly_londondata = london_df.groupby(['Year', 'Month']).size()\n",
    "\n",
    "monthly_londondata = monthly_londondata.unstack(level=0)\n",
    "\n",
    "monthly_londondata.plot(\n",
    "    marker='o', \n",
    "    figsize=(10, 5),\n",
    "    title='Monthly Road Accidents in London by Year (2019-2022)'\n",
    ")\n",
    "plt.xticks(range(1, 13), ['Jan','Feb','Mar','Apr','May','Jun','Jul','Aug','Sep','Oct','Nov','Dec'])\n",
    "plt.legend(title='Yearly Accident Comparison', bbox_to_anchor = (1.05,1), loc='upper left')\n",
    "plt.grid(alpha=0.3)\n",
    "plt.show()"
   ]
  },
  {
   "cell_type": "code",
   "execution_count": null,
   "id": "dc3139b9-0210-4747-b1a8-1f9f19c51abe",
   "metadata": {},
   "outputs": [],
   "source": [
    "# Accidents per year\n",
    "accidents_per_year = london_df['Year'].value_counts().sort_index()\n",
    "accidents_per_month = london_df['Month'].value_counts().sort_index()\n",
    "accidents_per_day = london_df['DayOfWeek'].value_counts().sort_index()\n",
    "\n",
    "\n",
    "#PER YEAR \n",
    "accidents_per_year.plot(kind='bar')\n",
    "plt.title('Accidents per Year')\n",
    "plt.xlabel('Year')\n",
    "plt.ylabel('Number of Accidents')\n",
    "plt.show()\n",
    "\n",
    "month_names = {\n",
    "    1: 'January', 2: 'February', 3: 'March', 4: 'April',\n",
    "    5: 'May', 6: 'June', 7: 'July', 8: 'August',\n",
    "    9: 'September', 10: 'October', 11: 'November', 12: 'December'\n",
    "}\n",
    "\n",
    "# Replace numerical months with their names\n",
    "accidents_per_month.index = accidents_per_month.index.map(month_names)\n",
    "\n",
    "\n",
    "accidents_per_month.plot(kind='bar')\n",
    "plt.title('Accidents per Month')\n",
    "plt.xlabel('Month')\n",
    "plt.ylabel('Number of Accidents')\n",
    "plt.show()\n",
    "\n",
    "\n",
    "#accident per day\n",
    "day_names = {\n",
    "    0: 'Monday',\n",
    "    1: 'Tuesday',\n",
    "    2: 'Wednesday',\n",
    "    3: 'Thursday',\n",
    "    4: 'Friday',\n",
    "    5: 'Saturday',\n",
    "    6: 'Sunday'\n",
    "}\n",
    "\n",
    "accidents_per_day.index = accidents_per_day.index.map(day_names)\n",
    "accidents_per_day.plot(kind='bar')\n",
    "print(accidents_per_day)"
   ]
  },
  {
   "cell_type": "code",
   "execution_count": null,
   "id": "17c91fe3-14b4-4949-8482-da4b171279f0",
   "metadata": {},
   "outputs": [],
   "source": [
    "severity_london  = london_df['Accident_Severity'].value_counts()\n",
    "\n",
    "plt.pie(severity_london,\n",
    "        labels = severity_london.index,\n",
    "        autopct = '%1.1f%%',\n",
    "        startangle = 90)\n",
    "plt.gcf().set_size_inches(10,7)\n",
    "plt.title('Accident Severity Distribution')\n",
    "plt.show()\n",
    "\n",
    "severity_2019_london = london_df[london_df['Year'] == 2019]\n",
    "# severity_2019\n",
    "lsc_2019 = severity_2019_london['Accident_Severity'].value_counts()\n",
    "\n",
    "plt.pie(lsc_2019,\n",
    "        labels = lsc_2019.index,\n",
    "        autopct = '%1.1f%%',\n",
    "        startangle = 90)\n",
    "plt.gcf().set_size_inches(10,7)\n",
    "plt.title('Accident Severity Distribution')\n",
    "plt.show()\n"
   ]
  },
  {
   "cell_type": "code",
   "execution_count": null,
   "id": "c5705933-36d6-4cde-bc9d-d286ce893c5b",
   "metadata": {},
   "outputs": [],
   "source": []
  },
  {
   "cell_type": "markdown",
   "id": "4284f69c-19df-4a74-9cf2-a35806fe77fb",
   "metadata": {},
   "source": [
    "# Road Accident Trends and Insights Across Six Major UK Districts\n",
    "### A Comparative Study of Birmingham, Leeds, Manchester, Bradford, Sheffield, and Westminster"
   ]
  },
  {
   "cell_type": "code",
   "execution_count": null,
   "id": "ab2c7bec-139e-46e8-ac2e-455feb523323",
   "metadata": {},
   "outputs": [],
   "source": [
    "road['District Area'].unique()"
   ]
  },
  {
   "cell_type": "code",
   "execution_count": null,
   "id": "2400d22e-47ef-44a4-a7c6-3a87bfda4ff0",
   "metadata": {},
   "outputs": [],
   "source": [
    "districts = [\n",
    "    \"Birmingham\",\n",
    "    \"Leeds\",\n",
    "    \"Manchester\",\n",
    "    \"Bradford\",\n",
    "    \"Sheffield\",\n",
    "    \"Westminster\"\n",
    "]\n",
    "\n",
    "road_selected = road[road['District Area'].isin(districts)]"
   ]
  },
  {
   "cell_type": "code",
   "execution_count": null,
   "id": "a3ae0f50-7261-41e8-8474-8342243932bc",
   "metadata": {},
   "outputs": [],
   "source": [
    "accidents_per_district = road_selected['District Area'].value_counts()\n",
    "print(accidents_per_district)"
   ]
  },
  {
   "cell_type": "code",
   "execution_count": null,
   "id": "723ed115-7168-4bc1-b583-24cc1ca78a13",
   "metadata": {},
   "outputs": [],
   "source": [
    "yearly_trend = road_selected.groupby(['Year','District Area']).size().unstack(fill_value=0)\n",
    "print(yearly_trend)"
   ]
  },
  {
   "cell_type": "code",
   "execution_count": null,
   "id": "4d7cba17-4289-4d59-b893-a992a0056724",
   "metadata": {},
   "outputs": [],
   "source": [
    "road_selected = road[road['District Area'].isin(districts)]\n"
   ]
  },
  {
   "cell_type": "code",
   "execution_count": null,
   "id": "0bbfa59d-f419-4101-978d-3952429c8c64",
   "metadata": {},
   "outputs": [],
   "source": [
    "if 'Accident_Severity' in road_selected.columns:\n",
    "    severity = road_selected.groupby(['District Area','Accident_Severity']).size().unstack(fill_value=0)\n",
    "    print(\"Accident severity per district:\")\n",
    "    print(severity, \"\\n\")"
   ]
  },
  {
   "cell_type": "code",
   "execution_count": null,
   "id": "15164deb-61d0-40f2-b355-d3476ec7c948",
   "metadata": {},
   "outputs": [],
   "source": [
    "weather = road_selected.groupby(['District Area','Weather_Conditions']).size().unstack(fill_value=0)\n",
    "print(\"Weather conditions per district:\")\n",
    "print(weather, \"\\n\")"
   ]
  },
  {
   "cell_type": "code",
   "execution_count": null,
   "id": "4c62c2bc-b9e0-4aeb-8a40-181915608224",
   "metadata": {},
   "outputs": [],
   "source": [
    "accidents_per_district = road_selected['District Area'].value_counts()\n",
    "\n",
    "plt.figure(figsize=(8,5))\n",
    "sns.barplot(x=accidents_per_district.index, y=accidents_per_district.values, palette=\"Set2\")\n",
    "plt.title(\"Total Accidents per District\")\n",
    "plt.ylabel(\"Number of Accidents\")\n",
    "plt.xlabel(\"District\")\n",
    "plt.xticks(rotation=30)\n",
    "plt.show()\n"
   ]
  },
  {
   "cell_type": "code",
   "execution_count": null,
   "id": "0397dcc4-dc35-4d84-9f8e-13351c1020bf",
   "metadata": {},
   "outputs": [],
   "source": [
    "accidents_per_district = road_selected['District Area'].value_counts()\n",
    "print(\"Accidents per district:\")\n",
    "print(accidents_per_district, \"\\n\")"
   ]
  },
  {
   "cell_type": "markdown",
   "id": "8cd2d4d9-59e3-42a8-b4b7-bd0463495a34",
   "metadata": {},
   "source": [
    "Q1: Which district has the highest accident count?\n",
    " “Birmingham has the highest accident count among the six districts, showing it as the most accident-prone area.”\n",
    "\n",
    "Q2: Which has the lowest?\n",
    " “Westminster records the lowest accidents, possibly due to its smaller area compared to major cities like Birmingham.”"
   ]
  },
  {
   "cell_type": "code",
   "execution_count": null,
   "id": "e661c2af-77b7-4ac6-bdb3-353c0f969389",
   "metadata": {},
   "outputs": [],
   "source": [
    "yearly_trend = road_selected.groupby(['Year','District Area']).size().unstack(fill_value=0)\n",
    "\n",
    "yearly_trend.plot(figsize=(10,6), marker='o')\n",
    "plt.title(\"Yearly Accident Trend by District\")\n",
    "plt.ylabel(\"Number of Accidents\")\n",
    "plt.show()"
   ]
  },
  {
   "cell_type": "code",
   "execution_count": null,
   "id": "c223d15c-9391-40a6-b2d6-59de9a92a892",
   "metadata": {},
   "outputs": [],
   "source": [
    "yearly_trend = road_selected.groupby(['Year','District Area']).size().unstack(fill_value=0)\n",
    "print(\"Yearly trend:\")\n",
    "print(yearly_trend, \"\\n\")"
   ]
  },
  {
   "cell_type": "markdown",
   "id": "96cba867-d57e-4609-9acd-288509f9606b",
   "metadata": {},
   "source": [
    "Q3: Are accidents increasing or decreasing overall?\n",
    " “Accidents across all districts show a slight decrease over the years, suggesting improvements in road safety.”\n",
    "\n",
    "Q4: Which district shows the fastest growth or decline?\n",
    " “Leeds shows the sharpest decline in accidents over time, indicating effective traffic management.”"
   ]
  },
  {
   "cell_type": "code",
   "execution_count": null,
   "id": "95429628-7a76-4ffb-976b-1e883f05934b",
   "metadata": {},
   "outputs": [],
   "source": [
    "monthly_trend = road_selected.groupby(['Month','District Area']).size().unstack(fill_value=0)\n",
    "\n",
    "monthly_trend.plot(figsize=(10,6))\n",
    "plt.title(\"Monthly Accident Distribution by District\")\n",
    "plt.ylabel(\"Number of Accidents\")\n",
    "plt.xlabel(\"Month\")\n",
    "plt.show()"
   ]
  },
  {
   "cell_type": "code",
   "execution_count": null,
   "id": "a5022eaa-a422-45dc-83e4-21298e449e1f",
   "metadata": {},
   "outputs": [],
   "source": [
    "monthly_trend = road_selected.groupby(['Month','District Area']).size().unstack(fill_value=0)\n",
    "print(\"Monthly trend:\")\n",
    "print(monthly_trend, \"\\n\")"
   ]
  },
  {
   "cell_type": "markdown",
   "id": "f580376d-1765-4c68-bf7b-6d2329e71a0e",
   "metadata": {},
   "source": [
    "Q5: Which months have the most accidents?\n",
    " “Accidents peak during summer months, especially in July and August, when travel activity is higher.”\n",
    "\n",
    "Q6: Which months are lowest?\n",
    " “The lowest accident numbers occur in February, likely due to fewer vehicles on the road after the holiday season.”"
   ]
  },
  {
   "cell_type": "code",
   "execution_count": null,
   "id": "ab46e17d-a59a-4c4f-a489-d38cd3cf9665",
   "metadata": {},
   "outputs": [],
   "source": [
    "day_trend = road_selected.groupby(['DayOfWeek','District Area']).size().unstack(fill_value=0)\n",
    "\n",
    "day_trend.plot(figsize=(10,6))\n",
    "plt.title(\"Accidents by Day of the Week\")\n",
    "plt.ylabel(\"Number of Accidents\")\n",
    "plt.xlabel(\"Day of Week (0=Mon, 6=Sun)\")\n",
    "plt.show()"
   ]
  },
  {
   "cell_type": "code",
   "execution_count": null,
   "id": "9738a4b2-6802-4dea-9d4d-3d002eb1d6c1",
   "metadata": {},
   "outputs": [],
   "source": [
    "day_trend = road_selected.groupby(['DayOfWeek','District Area']).size().unstack(fill_value=0)\n",
    "print(\"Day of week trend:\")\n",
    "print(day_trend, \"\\n\")"
   ]
  },
  {
   "cell_type": "markdown",
   "id": "77c10263-454f-4ee6-bfdb-31c7fbc19d29",
   "metadata": {},
   "source": [
    "Q7: Do weekends differ from weekdays?\n",
    "“Accidents are highest on Fridays and Saturdays, showing the weekend effect with more late-night travel.”"
   ]
  },
  {
   "cell_type": "code",
   "execution_count": null,
   "id": "488167b9-7d24-4592-82e6-47feb3b60cf2",
   "metadata": {},
   "outputs": [],
   "source": [
    "weather = road_selected.groupby(['District Area','Weather_Conditions']).size().unstack(fill_value=0)\n",
    "weather.T.plot(kind='bar', stacked=True, figsize=(12,6), colormap=\"Set3\")\n",
    "plt.title(\"Weather Conditions Impact by District\")\n",
    "plt.ylabel(\"Number of Accidents\")\n",
    "plt.show()"
   ]
  },
  {
   "cell_type": "code",
   "execution_count": null,
   "id": "b2f73b41-9381-41e9-ab58-2f8f9da457df",
   "metadata": {},
   "outputs": [],
   "source": [
    "weather = road_selected.groupby(['District Area','Weather_Conditions']).size().unstack(fill_value=0)\n",
    "print(\"Weather conditions per district:\")\n",
    "print(weather, \"\\n\")"
   ]
  },
  {
   "cell_type": "markdown",
   "id": "f387eab2-b7c1-4932-9d40-03fe63f8cfa8",
   "metadata": {},
   "source": [
    "Q10: How does weather affect accidents?\n",
    " “Clear weather accounts for most accidents, suggesting volume of traffic is a bigger factor than poor weather.”"
   ]
  },
  {
   "cell_type": "code",
   "execution_count": null,
   "id": "fb755ebc-d904-46b9-a774-7f2c9852db22",
   "metadata": {},
   "outputs": [],
   "source": [
    "surface = road_selected.groupby(['District Area','Road_Surface_Conditions']).size().unstack(fill_value=0)\n",
    "surface.T.plot(kind='bar', stacked=True, figsize=(12,6), colormap=\"Set1\")\n",
    "plt.title(\"Road Surface Conditions by District\")\n",
    "plt.ylabel(\"Number of Accidents\")\n",
    "plt.show()"
   ]
  },
  {
   "cell_type": "code",
   "execution_count": null,
   "id": "290cdfb5-7211-4425-ab22-5699cbc1a2a3",
   "metadata": {},
   "outputs": [],
   "source": [
    "surface = road_selected.groupby(['District Area','Road_Surface_Conditions']).size().unstack(fill_value=0)\n",
    "print(\"Road surface per district:\")\n",
    "print(surface, \"\\n\")"
   ]
  },
  {
   "cell_type": "markdown",
   "id": "4d192cb7-f22b-48fa-a7f4-fdbd8779be67",
   "metadata": {},
   "source": [
    "“Across all six districts, accidents on dry roads dominate, showing that most crashes happen during normal driving conditions rather than extreme weather.”\n",
    "\n",
    "“Birmingham and Leeds show the largest absolute number of accidents on wet roads, reflecting both higher traffic volume and rainy conditions.”\n",
    "\n",
    "“Districts like Manchester and Sheffield have proportionally more accidents on wet and icy surfaces compared to Westminster, suggesting regional weather plays a role in accident risk.”\n",
    "\n",
    "“Although ‘snow/ice’ conditions account for only a small fraction, their presence highlights the need for winter road safety measures in northern districts.”"
   ]
  },
  {
   "cell_type": "code",
   "execution_count": null,
   "id": "235d3470-f5ef-4fea-be0d-8b57679e7272",
   "metadata": {},
   "outputs": [],
   "source": [
    "import folium\n",
    "from folium.plugins import HeatMap"
   ]
  },
  {
   "cell_type": "code",
   "execution_count": null,
   "id": "36087351-2bcd-406b-aa08-6e995a69a262",
   "metadata": {},
   "outputs": [],
   "source": [
    "district = \"Birmingham\"\n",
    "district_data = road_selected[road_selected['District Area'] == district]\n",
    "\n",
    "locations = district_data[['Latitude', 'Longitude']].dropna().values.tolist()\n",
    "\n",
    "m = folium.Map(\n",
    "    location=[district_data['Latitude'].mean(), district_data['Longitude'].mean()],\n",
    "    zoom_start=11\n",
    ")\n",
    "HeatMap(locations, radius=8).add_to(m)\n",
    "m.save(f'{district}_heatmap.html')  \n",
    "m  \n",
    "\n"
   ]
  },
  {
   "cell_type": "code",
   "execution_count": null,
   "id": "820ff812-5213-40e7-bab9-b2c8244da905",
   "metadata": {},
   "outputs": [],
   "source": [
    "districts = [\"Birmingham\", \"Leeds\", \"Manchester\", \"Bradford\", \"Sheffield\", \"Westminster\"]\n",
    "\n",
    "for district in districts:\n",
    "    district_data = road_selected[road_selected['District Area'] == district]\n",
    "    locations = district_data[['Latitude', 'Longitude']].dropna().values.tolist()\n",
    "    \n",
    "    m = folium.Map(\n",
    "        location=[district_data['Latitude'].mean(), district_data['Longitude'].mean()],\n",
    "        zoom_start=11\n",
    "    )\n",
    "    \n",
    "    HeatMap(locations, radius=8).add_to(m)\n",
    "    m.save(f\"{district}_heatmap.html\")\n",
    "    display(m)  # Shows inside Jupyter\n"
   ]
  },
  {
   "cell_type": "markdown",
   "id": "0dd37747-ae0f-4265-8d5b-d5676d82e602",
   "metadata": {},
   "source": [
    "Birmingham – With over 13,000 accidents, Birmingham shows the highest accident density. Heatmaps reveal clusters around major highways and the city center. Most crashes occurred on dry roads, highlighting that traffic volume outweighs poor weather as a risk factor.\n",
    "\n",
    "Leeds – Accidents in Leeds (~8,900) concentrate near urban centers and arterial roads. Wet road accidents occur more frequently compared to Westminster, suggesting weather-related risks are stronger here.\n",
    "\n",
    "Manchester – With ~6,700 cases, Manchester has a notable proportion of wet and icy surface accidents, likely reflecting frequent rainfall and winter conditions. Hotspots appear near motorway junctions, where speed and congestion combine.\n",
    "\n",
    "Bradford – Bradford (~6,200 accidents) shows a balanced spread between dry and wet roads, with higher accident frequency on residential roads compared to bigger cities. This suggests local driving patterns play an important role.\n",
    "\n",
    "Sheffield – About 5,700 accidents occur in Sheffield, with a relatively higher share of winter-related accidents (snow/ice) compared to southern districts. Heatmaps highlight concentration along hilly routes and major roads, showing geography influences accident risk.\n",
    "\n",
    "Westminster – Although it reports fewer accidents (~5,700), Westminster’s crashes are mostly clustered in the city center, reflecting heavy pedestrian and tourist activity. Unlike northern cities, wet or icy surfaces are less of a factor, but traffic congestion and urban complexity drive accident rates."
   ]
  },
  {
   "cell_type": "code",
   "execution_count": null,
   "id": "9e66dd71-1b79-4252-9910-7d93944c04f6",
   "metadata": {},
   "outputs": [],
   "source": []
  }
 ],
 "metadata": {
  "kernelspec": {
   "display_name": "Python 3 (ipykernel)",
   "language": "python",
   "name": "python3"
  },
  "language_info": {
   "codemirror_mode": {
    "name": "ipython",
    "version": 3
   },
   "file_extension": ".py",
   "mimetype": "text/x-python",
   "name": "python",
   "nbconvert_exporter": "python",
   "pygments_lexer": "ipython3",
   "version": "3.13.7"
  }
 },
 "nbformat": 4,
 "nbformat_minor": 5
}
